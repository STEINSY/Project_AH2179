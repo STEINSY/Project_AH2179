{
 "cells": [
  {
   "cell_type": "code",
   "execution_count": 1,
   "id": "c5dd2b3d",
   "metadata": {},
   "outputs": [
    {
     "name": "stderr",
     "output_type": "stream",
     "text": [
      "D:\\Python\\Anaconda3\\lib\\site-packages\\scipy\\__init__.py:146: UserWarning: A NumPy version >=1.16.5 and <1.23.0 is required for this version of SciPy (detected version 1.24.3\n",
      "  warnings.warn(f\"A NumPy version >={np_minversion} and <{np_maxversion}\"\n"
     ]
    }
   ],
   "source": [
    "import numpy as np\n",
    "import pandas as pd\n",
    "import matplotlib.pyplot as plt\n",
    "from sklearn.preprocessing import MinMaxScaler\n",
    "from sklearn.model_selection import train_test_split\n",
    "from tensorflow.keras.models import Sequential\n",
    "from tensorflow.keras.layers import LSTM, Dense,SimpleRNN\n",
    "from sklearn.metrics import mean_absolute_error, mean_squared_error,r2_score\n",
    "from math import sqrt\n",
    "import xgboost as xgb"
   ]
  },
  {
   "cell_type": "code",
   "execution_count": 2,
   "id": "2b9c42b3",
   "metadata": {},
   "outputs": [
    {
     "name": "stdout",
     "output_type": "stream",
     "text": [
      "Index(['DP_ID', 'PORTAL', 'Date', 'Time', 'Interval_1', 'Interval_5',\n",
      "       'Interval_15', 'Interval_30', 'Interval_60', 'SPEED_MS_AVG', 'FLOW'],\n",
      "      dtype='object')\n",
      "<class 'pandas.core.frame.DataFrame'>\n",
      "RangeIndex: 1921967 entries, 0 to 1921966\n",
      "Data columns (total 11 columns):\n",
      " #   Column        Dtype         \n",
      "---  ------        -----         \n",
      " 0   DP_ID         int64         \n",
      " 1   PORTAL        object        \n",
      " 2   Date          datetime64[ns]\n",
      " 3   Time          object        \n",
      " 4   Interval_1    int64         \n",
      " 5   Interval_5    int64         \n",
      " 6   Interval_15   int64         \n",
      " 7   Interval_30   int64         \n",
      " 8   Interval_60   int64         \n",
      " 9   SPEED_MS_AVG  float64       \n",
      " 10  FLOW          float64       \n",
      "dtypes: datetime64[ns](1), float64(2), int64(6), object(2)\n",
      "memory usage: 161.3+ MB\n"
     ]
    }
   ],
   "source": [
    "# 读取传感器数据\n",
    "data = pd.read_csv(\"training_dataset.csv\",sep=\";\")\n",
    "print(data.columns)\n",
    "data['Date'] = pd.to_datetime(data['Date'], format='%Y%m%d')\n",
    "data['Time'] = pd.to_datetime(data['Time'], format='%H:%M:%S').dt.time\n",
    "data.info()"
   ]
  },
  {
   "cell_type": "code",
   "execution_count": 3,
   "id": "acb97e13",
   "metadata": {},
   "outputs": [
    {
     "name": "stderr",
     "output_type": "stream",
     "text": [
      "C:\\Users\\stein\\AppData\\Local\\Temp\\ipykernel_11916\\900628363.py:3: FutureWarning: The pandas.datetime class is deprecated and will be removed from pandas in a future version. Import from datetime module instead.\n",
      "  data['Timestamp'] = data.apply(lambda row: pd.datetime.combine(row['Date'], row['Time']), axis=1)\n"
     ]
    }
   ],
   "source": [
    "# 数据预处理\n",
    "# 合并日期和时间列为时间戳\n",
    "data['Timestamp'] = data.apply(lambda row: pd.datetime.combine(row['Date'], row['Time']), axis=1)\n",
    "# 确保数据按时间排序\n",
    "data = data.sort_values(by='Timestamp')\n",
    "clean_data = data.dropna(subset=['FLOW'])\n",
    "clean_traffic_data = data.dropna(subset=['FLOW'])\n",
    "# 选择车流量特征\n",
    "traffic_data = clean_traffic_data[['Timestamp', 'FLOW']]"
   ]
  },
  {
   "cell_type": "code",
   "execution_count": 16,
   "id": "086edd4b",
   "metadata": {},
   "outputs": [
    {
     "data": {
      "text/html": [
       "<div>\n",
       "<style scoped>\n",
       "    .dataframe tbody tr th:only-of-type {\n",
       "        vertical-align: middle;\n",
       "    }\n",
       "\n",
       "    .dataframe tbody tr th {\n",
       "        vertical-align: top;\n",
       "    }\n",
       "\n",
       "    .dataframe thead th {\n",
       "        text-align: right;\n",
       "    }\n",
       "</style>\n",
       "<table border=\"1\" class=\"dataframe\">\n",
       "  <thead>\n",
       "    <tr style=\"text-align: right;\">\n",
       "      <th></th>\n",
       "      <th>DP_ID</th>\n",
       "      <th>PORTAL</th>\n",
       "      <th>Date</th>\n",
       "      <th>Time</th>\n",
       "      <th>Interval_1</th>\n",
       "      <th>Interval_5</th>\n",
       "      <th>Interval_15</th>\n",
       "      <th>Interval_30</th>\n",
       "      <th>Interval_60</th>\n",
       "      <th>SPEED_MS_AVG</th>\n",
       "      <th>FLOW</th>\n",
       "      <th>Timestamp</th>\n",
       "    </tr>\n",
       "  </thead>\n",
       "  <tbody>\n",
       "    <tr>\n",
       "      <th>0</th>\n",
       "      <td>543</td>\n",
       "      <td>E4S 56,780</td>\n",
       "      <td>2021-06-01</td>\n",
       "      <td>04:00:00</td>\n",
       "      <td>240</td>\n",
       "      <td>48</td>\n",
       "      <td>16</td>\n",
       "      <td>8</td>\n",
       "      <td>4</td>\n",
       "      <td>19.34</td>\n",
       "      <td>10.0</td>\n",
       "      <td>2021-06-01 04:00:00</td>\n",
       "    </tr>\n",
       "    <tr>\n",
       "      <th>23</th>\n",
       "      <td>1079</td>\n",
       "      <td>E4S 56,780</td>\n",
       "      <td>2021-06-01</td>\n",
       "      <td>04:00:00</td>\n",
       "      <td>240</td>\n",
       "      <td>48</td>\n",
       "      <td>16</td>\n",
       "      <td>8</td>\n",
       "      <td>4</td>\n",
       "      <td>21.10</td>\n",
       "      <td>11.0</td>\n",
       "      <td>2021-06-01 04:00:00</td>\n",
       "    </tr>\n",
       "    <tr>\n",
       "      <th>22</th>\n",
       "      <td>1076</td>\n",
       "      <td>E4S 55,620</td>\n",
       "      <td>2021-06-01</td>\n",
       "      <td>04:00:00</td>\n",
       "      <td>240</td>\n",
       "      <td>48</td>\n",
       "      <td>16</td>\n",
       "      <td>8</td>\n",
       "      <td>4</td>\n",
       "      <td>20.27</td>\n",
       "      <td>6.0</td>\n",
       "      <td>2021-06-01 04:00:00</td>\n",
       "    </tr>\n",
       "    <tr>\n",
       "      <th>21</th>\n",
       "      <td>1254</td>\n",
       "      <td>E4S 55,620</td>\n",
       "      <td>2021-06-01</td>\n",
       "      <td>04:00:00</td>\n",
       "      <td>240</td>\n",
       "      <td>48</td>\n",
       "      <td>16</td>\n",
       "      <td>8</td>\n",
       "      <td>4</td>\n",
       "      <td>24.53</td>\n",
       "      <td>4.0</td>\n",
       "      <td>2021-06-01 04:00:00</td>\n",
       "    </tr>\n",
       "    <tr>\n",
       "      <th>20</th>\n",
       "      <td>902</td>\n",
       "      <td>E4S 56,490</td>\n",
       "      <td>2021-06-01</td>\n",
       "      <td>04:00:00</td>\n",
       "      <td>240</td>\n",
       "      <td>48</td>\n",
       "      <td>16</td>\n",
       "      <td>8</td>\n",
       "      <td>4</td>\n",
       "      <td>22.92</td>\n",
       "      <td>15.0</td>\n",
       "      <td>2021-06-01 04:00:00</td>\n",
       "    </tr>\n",
       "    <tr>\n",
       "      <th>19</th>\n",
       "      <td>749</td>\n",
       "      <td>E4S 57,055</td>\n",
       "      <td>2021-06-01</td>\n",
       "      <td>04:00:00</td>\n",
       "      <td>240</td>\n",
       "      <td>48</td>\n",
       "      <td>16</td>\n",
       "      <td>8</td>\n",
       "      <td>4</td>\n",
       "      <td>21.45</td>\n",
       "      <td>12.0</td>\n",
       "      <td>2021-06-01 04:00:00</td>\n",
       "    </tr>\n",
       "    <tr>\n",
       "      <th>18</th>\n",
       "      <td>740</td>\n",
       "      <td>E4S 56,160</td>\n",
       "      <td>2021-06-01</td>\n",
       "      <td>04:00:00</td>\n",
       "      <td>240</td>\n",
       "      <td>48</td>\n",
       "      <td>16</td>\n",
       "      <td>8</td>\n",
       "      <td>4</td>\n",
       "      <td>21.99</td>\n",
       "      <td>17.0</td>\n",
       "      <td>2021-06-01 04:00:00</td>\n",
       "    </tr>\n",
       "    <tr>\n",
       "      <th>16</th>\n",
       "      <td>4473</td>\n",
       "      <td>E4S 58,140</td>\n",
       "      <td>2021-06-01</td>\n",
       "      <td>04:00:00</td>\n",
       "      <td>240</td>\n",
       "      <td>48</td>\n",
       "      <td>16</td>\n",
       "      <td>8</td>\n",
       "      <td>4</td>\n",
       "      <td>20.83</td>\n",
       "      <td>1.0</td>\n",
       "      <td>2021-06-01 04:00:00</td>\n",
       "    </tr>\n",
       "    <tr>\n",
       "      <th>15</th>\n",
       "      <td>4428</td>\n",
       "      <td>E4S 57,820</td>\n",
       "      <td>2021-06-01</td>\n",
       "      <td>04:00:00</td>\n",
       "      <td>240</td>\n",
       "      <td>48</td>\n",
       "      <td>16</td>\n",
       "      <td>8</td>\n",
       "      <td>4</td>\n",
       "      <td>19.72</td>\n",
       "      <td>2.0</td>\n",
       "      <td>2021-06-01 04:00:00</td>\n",
       "    </tr>\n",
       "    <tr>\n",
       "      <th>14</th>\n",
       "      <td>1443</td>\n",
       "      <td>E4S 57,055</td>\n",
       "      <td>2021-06-01</td>\n",
       "      <td>04:00:00</td>\n",
       "      <td>240</td>\n",
       "      <td>48</td>\n",
       "      <td>16</td>\n",
       "      <td>8</td>\n",
       "      <td>4</td>\n",
       "      <td>22.41</td>\n",
       "      <td>8.0</td>\n",
       "      <td>2021-06-01 04:00:00</td>\n",
       "    </tr>\n",
       "  </tbody>\n",
       "</table>\n",
       "</div>"
      ],
      "text/plain": [
       "    DP_ID      PORTAL       Date      Time  Interval_1  Interval_5  \\\n",
       "0     543  E4S 56,780 2021-06-01  04:00:00         240          48   \n",
       "23   1079  E4S 56,780 2021-06-01  04:00:00         240          48   \n",
       "22   1076  E4S 55,620 2021-06-01  04:00:00         240          48   \n",
       "21   1254  E4S 55,620 2021-06-01  04:00:00         240          48   \n",
       "20    902  E4S 56,490 2021-06-01  04:00:00         240          48   \n",
       "19    749  E4S 57,055 2021-06-01  04:00:00         240          48   \n",
       "18    740  E4S 56,160 2021-06-01  04:00:00         240          48   \n",
       "16   4473  E4S 58,140 2021-06-01  04:00:00         240          48   \n",
       "15   4428  E4S 57,820 2021-06-01  04:00:00         240          48   \n",
       "14   1443  E4S 57,055 2021-06-01  04:00:00         240          48   \n",
       "\n",
       "    Interval_15  Interval_30  Interval_60  SPEED_MS_AVG  FLOW  \\\n",
       "0            16            8            4         19.34  10.0   \n",
       "23           16            8            4         21.10  11.0   \n",
       "22           16            8            4         20.27   6.0   \n",
       "21           16            8            4         24.53   4.0   \n",
       "20           16            8            4         22.92  15.0   \n",
       "19           16            8            4         21.45  12.0   \n",
       "18           16            8            4         21.99  17.0   \n",
       "16           16            8            4         20.83   1.0   \n",
       "15           16            8            4         19.72   2.0   \n",
       "14           16            8            4         22.41   8.0   \n",
       "\n",
       "             Timestamp  \n",
       "0  2021-06-01 04:00:00  \n",
       "23 2021-06-01 04:00:00  \n",
       "22 2021-06-01 04:00:00  \n",
       "21 2021-06-01 04:00:00  \n",
       "20 2021-06-01 04:00:00  \n",
       "19 2021-06-01 04:00:00  \n",
       "18 2021-06-01 04:00:00  \n",
       "16 2021-06-01 04:00:00  \n",
       "15 2021-06-01 04:00:00  \n",
       "14 2021-06-01 04:00:00  "
      ]
     },
     "execution_count": 16,
     "metadata": {},
     "output_type": "execute_result"
    }
   ],
   "source": [
    "data.head(10)"
   ]
  },
  {
   "cell_type": "code",
   "execution_count": 42,
   "id": "95c25986",
   "metadata": {},
   "outputs": [
    {
     "data": {
      "text/html": [
       "<div>\n",
       "<style scoped>\n",
       "    .dataframe tbody tr th:only-of-type {\n",
       "        vertical-align: middle;\n",
       "    }\n",
       "\n",
       "    .dataframe tbody tr th {\n",
       "        vertical-align: top;\n",
       "    }\n",
       "\n",
       "    .dataframe thead th {\n",
       "        text-align: right;\n",
       "    }\n",
       "</style>\n",
       "<table border=\"1\" class=\"dataframe\">\n",
       "  <thead>\n",
       "    <tr style=\"text-align: right;\">\n",
       "      <th></th>\n",
       "      <th>DP_ID</th>\n",
       "      <th>PORTAL</th>\n",
       "      <th>Date</th>\n",
       "      <th>Time</th>\n",
       "      <th>Interval_1</th>\n",
       "      <th>Interval_5</th>\n",
       "      <th>Interval_15</th>\n",
       "      <th>Interval_30</th>\n",
       "      <th>Interval_60</th>\n",
       "      <th>SPEED_MS_AVG</th>\n",
       "      <th>FLOW</th>\n",
       "      <th>Timestamp</th>\n",
       "    </tr>\n",
       "  </thead>\n",
       "  <tbody>\n",
       "    <tr>\n",
       "      <th>215571</th>\n",
       "      <td>4439</td>\n",
       "      <td>E4S 57,820</td>\n",
       "      <td>2021-06-23</td>\n",
       "      <td>05:41:00</td>\n",
       "      <td>341</td>\n",
       "      <td>68</td>\n",
       "      <td>22</td>\n",
       "      <td>11</td>\n",
       "      <td>5</td>\n",
       "      <td>31.94</td>\n",
       "      <td>1.0</td>\n",
       "      <td>2021-06-23 05:41:00</td>\n",
       "    </tr>\n",
       "    <tr>\n",
       "      <th>1623202</th>\n",
       "      <td>4472</td>\n",
       "      <td>E4S 58,140</td>\n",
       "      <td>2021-11-28</td>\n",
       "      <td>07:43:00</td>\n",
       "      <td>463</td>\n",
       "      <td>92</td>\n",
       "      <td>30</td>\n",
       "      <td>15</td>\n",
       "      <td>7</td>\n",
       "      <td>24.17</td>\n",
       "      <td>1.0</td>\n",
       "      <td>2021-11-28 07:43:00</td>\n",
       "    </tr>\n",
       "    <tr>\n",
       "      <th>1250840</th>\n",
       "      <td>4494</td>\n",
       "      <td>E4S 58,140</td>\n",
       "      <td>2021-10-18</td>\n",
       "      <td>04:21:00</td>\n",
       "      <td>261</td>\n",
       "      <td>52</td>\n",
       "      <td>17</td>\n",
       "      <td>8</td>\n",
       "      <td>4</td>\n",
       "      <td>20.56</td>\n",
       "      <td>1.0</td>\n",
       "      <td>2021-10-18 04:21:00</td>\n",
       "    </tr>\n",
       "    <tr>\n",
       "      <th>1492704</th>\n",
       "      <td>4872</td>\n",
       "      <td>E4S 56,780</td>\n",
       "      <td>2021-11-13</td>\n",
       "      <td>08:09:00</td>\n",
       "      <td>489</td>\n",
       "      <td>97</td>\n",
       "      <td>32</td>\n",
       "      <td>16</td>\n",
       "      <td>8</td>\n",
       "      <td>15.83</td>\n",
       "      <td>1.0</td>\n",
       "      <td>2021-11-13 08:09:00</td>\n",
       "    </tr>\n",
       "    <tr>\n",
       "      <th>1492741</th>\n",
       "      <td>4496</td>\n",
       "      <td>E4S 58,140</td>\n",
       "      <td>2021-11-13</td>\n",
       "      <td>08:10:00</td>\n",
       "      <td>490</td>\n",
       "      <td>98</td>\n",
       "      <td>32</td>\n",
       "      <td>16</td>\n",
       "      <td>8</td>\n",
       "      <td>15.28</td>\n",
       "      <td>1.0</td>\n",
       "      <td>2021-11-13 08:10:00</td>\n",
       "    </tr>\n",
       "    <tr>\n",
       "      <th>...</th>\n",
       "      <td>...</td>\n",
       "      <td>...</td>\n",
       "      <td>...</td>\n",
       "      <td>...</td>\n",
       "      <td>...</td>\n",
       "      <td>...</td>\n",
       "      <td>...</td>\n",
       "      <td>...</td>\n",
       "      <td>...</td>\n",
       "      <td>...</td>\n",
       "      <td>...</td>\n",
       "      <td>...</td>\n",
       "    </tr>\n",
       "    <tr>\n",
       "      <th>1524655</th>\n",
       "      <td>153</td>\n",
       "      <td>E4S 56,490</td>\n",
       "      <td>2021-11-17</td>\n",
       "      <td>05:29:00</td>\n",
       "      <td>329</td>\n",
       "      <td>65</td>\n",
       "      <td>21</td>\n",
       "      <td>10</td>\n",
       "      <td>5</td>\n",
       "      <td>22.13</td>\n",
       "      <td>42.0</td>\n",
       "      <td>2021-11-17 05:29:00</td>\n",
       "    </tr>\n",
       "    <tr>\n",
       "      <th>1515456</th>\n",
       "      <td>153</td>\n",
       "      <td>E4S 56,490</td>\n",
       "      <td>2021-11-16</td>\n",
       "      <td>05:27:00</td>\n",
       "      <td>327</td>\n",
       "      <td>65</td>\n",
       "      <td>21</td>\n",
       "      <td>10</td>\n",
       "      <td>5</td>\n",
       "      <td>16.33</td>\n",
       "      <td>43.0</td>\n",
       "      <td>2021-11-16 05:27:00</td>\n",
       "    </tr>\n",
       "    <tr>\n",
       "      <th>745926</th>\n",
       "      <td>4429</td>\n",
       "      <td>E4S 57,435</td>\n",
       "      <td>2021-08-23</td>\n",
       "      <td>07:48:00</td>\n",
       "      <td>468</td>\n",
       "      <td>93</td>\n",
       "      <td>31</td>\n",
       "      <td>15</td>\n",
       "      <td>7</td>\n",
       "      <td>20.00</td>\n",
       "      <td>43.0</td>\n",
       "      <td>2021-08-23 07:48:00</td>\n",
       "    </tr>\n",
       "    <tr>\n",
       "      <th>6540</th>\n",
       "      <td>4429</td>\n",
       "      <td>E4S 57,435</td>\n",
       "      <td>2021-06-01</td>\n",
       "      <td>08:05:00</td>\n",
       "      <td>485</td>\n",
       "      <td>97</td>\n",
       "      <td>32</td>\n",
       "      <td>16</td>\n",
       "      <td>8</td>\n",
       "      <td>20.83</td>\n",
       "      <td>44.0</td>\n",
       "      <td>2021-06-01 08:05:00</td>\n",
       "    </tr>\n",
       "    <tr>\n",
       "      <th>1205239</th>\n",
       "      <td>153</td>\n",
       "      <td>E4S 56,490</td>\n",
       "      <td>2021-10-13</td>\n",
       "      <td>04:40:00</td>\n",
       "      <td>280</td>\n",
       "      <td>56</td>\n",
       "      <td>18</td>\n",
       "      <td>9</td>\n",
       "      <td>4</td>\n",
       "      <td>20.19</td>\n",
       "      <td>45.0</td>\n",
       "      <td>2021-10-13 04:40:00</td>\n",
       "    </tr>\n",
       "  </tbody>\n",
       "</table>\n",
       "<p>1921905 rows × 12 columns</p>\n",
       "</div>"
      ],
      "text/plain": [
       "         DP_ID      PORTAL       Date      Time  Interval_1  Interval_5  \\\n",
       "215571    4439  E4S 57,820 2021-06-23  05:41:00         341          68   \n",
       "1623202   4472  E4S 58,140 2021-11-28  07:43:00         463          92   \n",
       "1250840   4494  E4S 58,140 2021-10-18  04:21:00         261          52   \n",
       "1492704   4872  E4S 56,780 2021-11-13  08:09:00         489          97   \n",
       "1492741   4496  E4S 58,140 2021-11-13  08:10:00         490          98   \n",
       "...        ...         ...        ...       ...         ...         ...   \n",
       "1524655    153  E4S 56,490 2021-11-17  05:29:00         329          65   \n",
       "1515456    153  E4S 56,490 2021-11-16  05:27:00         327          65   \n",
       "745926    4429  E4S 57,435 2021-08-23  07:48:00         468          93   \n",
       "6540      4429  E4S 57,435 2021-06-01  08:05:00         485          97   \n",
       "1205239    153  E4S 56,490 2021-10-13  04:40:00         280          56   \n",
       "\n",
       "         Interval_15  Interval_30  Interval_60  SPEED_MS_AVG  FLOW  \\\n",
       "215571            22           11            5         31.94   1.0   \n",
       "1623202           30           15            7         24.17   1.0   \n",
       "1250840           17            8            4         20.56   1.0   \n",
       "1492704           32           16            8         15.83   1.0   \n",
       "1492741           32           16            8         15.28   1.0   \n",
       "...              ...          ...          ...           ...   ...   \n",
       "1524655           21           10            5         22.13  42.0   \n",
       "1515456           21           10            5         16.33  43.0   \n",
       "745926            31           15            7         20.00  43.0   \n",
       "6540              32           16            8         20.83  44.0   \n",
       "1205239           18            9            4         20.19  45.0   \n",
       "\n",
       "                  Timestamp  \n",
       "215571  2021-06-23 05:41:00  \n",
       "1623202 2021-11-28 07:43:00  \n",
       "1250840 2021-10-18 04:21:00  \n",
       "1492704 2021-11-13 08:09:00  \n",
       "1492741 2021-11-13 08:10:00  \n",
       "...                     ...  \n",
       "1524655 2021-11-17 05:29:00  \n",
       "1515456 2021-11-16 05:27:00  \n",
       "745926  2021-08-23 07:48:00  \n",
       "6540    2021-06-01 08:05:00  \n",
       "1205239 2021-10-13 04:40:00  \n",
       "\n",
       "[1921905 rows x 12 columns]"
      ]
     },
     "execution_count": 42,
     "metadata": {},
     "output_type": "execute_result"
    }
   ],
   "source": [
    "clean_data.sort_values(by='FLOW', ascending=True)"
   ]
  },
  {
   "cell_type": "code",
   "execution_count": 17,
   "id": "38046b3d",
   "metadata": {},
   "outputs": [
    {
     "name": "stdout",
     "output_type": "stream",
     "text": [
      "DP_ID           0\n",
      "PORTAL          0\n",
      "Date            0\n",
      "Time            0\n",
      "Interval_1      0\n",
      "Interval_5      0\n",
      "Interval_15     0\n",
      "Interval_30     0\n",
      "Interval_60     0\n",
      "SPEED_MS_AVG    0\n",
      "FLOW            0\n",
      "Timestamp       0\n",
      "dtype: int64\n",
      "Timestamp    0\n",
      "FLOW         0\n",
      "dtype: int64\n"
     ]
    }
   ],
   "source": [
    "print(clean_data.isnull().sum())\n",
    "print(traffic_data.isnull().sum())"
   ]
  },
  {
   "cell_type": "code",
   "execution_count": 4,
   "id": "4be9d321",
   "metadata": {},
   "outputs": [],
   "source": [
    "def create_time_windows(clean_data, window_size):\n",
    "    X, y = [], []\n",
    "    for i in range(len(clean_data) - window_size):\n",
    "        X.append(clean_data['FLOW'].values[i:i+window_size])\n",
    "        y.append(clean_data['FLOW'].values[i+window_size])\n",
    "    return np.array(X), np.array(y)\n",
    "\n",
    "window_size = [5,15,30,60]  # 15分钟的时间窗口\n",
    "X, y = create_time_windows(traffic_data, window_size[1])\n"
   ]
  },
  {
   "cell_type": "code",
   "execution_count": 6,
   "id": "9a9a5f94",
   "metadata": {},
   "outputs": [],
   "source": [
    "# Split train and test\n",
    "X_train, X_val, y_train, y_val = train_test_split(X, y, test_size=0.2, shuffle=False)\n"
   ]
  },
  {
   "cell_type": "code",
   "execution_count": 8,
   "id": "52c31fb1",
   "metadata": {},
   "outputs": [],
   "source": [
    "# Normalization\n",
    "scaler = MinMaxScaler()\n",
    "X_train_scaled = scaler.fit_transform(X_train)\n",
    "X_val_scaled = scaler.transform(X_val)\n"
   ]
  },
  {
   "cell_type": "markdown",
   "id": "26c17ef6",
   "metadata": {},
   "source": [
    "LSTM"
   ]
  },
  {
   "cell_type": "code",
   "execution_count": 21,
   "id": "f48620c1",
   "metadata": {},
   "outputs": [
    {
     "name": "stdout",
     "output_type": "stream",
     "text": [
      "Epoch 1/10\n",
      "48048/48048 [==============================] - 400s 8ms/step - loss: 42.6715 - val_loss: 31.7460\n",
      "Epoch 2/10\n",
      "48048/48048 [==============================] - 394s 8ms/step - loss: 41.4675 - val_loss: 32.0343\n",
      "Epoch 3/10\n",
      "48048/48048 [==============================] - 400s 8ms/step - loss: 41.1721 - val_loss: 31.6277\n",
      "Epoch 4/10\n",
      "48048/48048 [==============================] - 397s 8ms/step - loss: 40.9585 - val_loss: 31.4779\n",
      "Epoch 5/10\n",
      "48048/48048 [==============================] - 458s 10ms/step - loss: 40.7768 - val_loss: 31.4236\n",
      "Epoch 6/10\n",
      "48048/48048 [==============================] - 472s 10ms/step - loss: 40.6372 - val_loss: 31.2648\n",
      "Epoch 7/10\n",
      "48048/48048 [==============================] - 404s 8ms/step - loss: 40.5376 - val_loss: 31.4740\n",
      "Epoch 8/10\n",
      "48048/48048 [==============================] - 407s 8ms/step - loss: 40.4377 - val_loss: 31.1121\n",
      "Epoch 9/10\n",
      "48048/48048 [==============================] - 403s 8ms/step - loss: 40.3671 - val_loss: 31.2876\n",
      "Epoch 10/10\n",
      "48048/48048 [==============================] - 401s 8ms/step - loss: 40.2979 - val_loss: 31.0517\n"
     ]
    },
    {
     "data": {
      "text/plain": [
       "<keras.src.callbacks.History at 0x1cbd13d7ee0>"
      ]
     },
     "execution_count": 21,
     "metadata": {},
     "output_type": "execute_result"
    }
   ],
   "source": [
    "# 创建并训练LSTM模型\n",
    "model = Sequential()\n",
    "model.add(LSTM(50, activation='relu', input_shape=(window_size[1], 1)))\n",
    "model.add(Dense(1))\n",
    "model.compile(optimizer='adam', loss='mean_squared_error')\n",
    "\n",
    "model.fit(X_train_scaled, y_train, epochs=10, batch_size=32, validation_data=(X_val_scaled, y_val))\n",
    "\n",
    "# # 创建并训练RNN模型\n",
    "# rnn_model = Sequential()\n",
    "# rnn_model.add(SimpleRNN(50, activation='relu', input_shape=(window_size, 1)))\n",
    "# rnn_model.add(Dense(1))\n",
    "# rnn_model.compile(optimizer='adam', loss='mean_squared_error')\n",
    "\n",
    "# rnn_model.fit(X_train_scaled, y_train, epochs=10, batch_size=32, validation_data=(X_val_scaled, y_val))\n",
    "# rnn_y_pred = rnn_model.predict(X_val_scaled)"
   ]
  },
  {
   "cell_type": "code",
   "execution_count": 27,
   "id": "a8687dc4",
   "metadata": {},
   "outputs": [
    {
     "name": "stdout",
     "output_type": "stream",
     "text": [
      "12012/12012 [==============================] - 48s 4ms/step\n",
      "RMSE: 5.5724013064826465\n",
      "MAE: 4.28310814118931\n"
     ]
    }
   ],
   "source": [
    "y_pred = model.predict(X_val_scaled)\n",
    "\n",
    "rmse = sqrt(mean_squared_error(y_val, y_pred))\n",
    "mae = mean_absolute_error(y_val, y_pred)\n",
    "\n",
    "print(f\"RMSE: {rmse}\")\n",
    "print(f\"MAE: {mae}\")\n"
   ]
  },
  {
   "cell_type": "code",
   "execution_count": 30,
   "id": "04ebae7b",
   "metadata": {},
   "outputs": [
    {
     "name": "stdout",
     "output_type": "stream",
     "text": [
      "(R-squared): 0.4818646538881748\n",
      " (Adjusted R-squared): 0.48184443328834525\n"
     ]
    }
   ],
   "source": [
    "r2 = r2_score(y_val, y_pred)\n",
    "\n",
    "# 计算调整R方\n",
    "n = len(y_val)  # 样本数量\n",
    "p = X_val_scaled.shape[1]  # 自变量数量（特征数量）\n",
    "adjusted_r2 = 1 - (1 - r2) * ((n - 1) / (n - p - 1))\n",
    "\n",
    "print(\"(R-squared):\", r2)\n",
    "print(\" (Adjusted R-squared):\", adjusted_r2)"
   ]
  },
  {
   "cell_type": "code",
   "execution_count": 23,
   "id": "b4b66895",
   "metadata": {},
   "outputs": [
    {
     "name": "stdout",
     "output_type": "stream",
     "text": [
      "0\n",
      "0\n",
      "0\n"
     ]
    }
   ],
   "source": [
    "# 检查输入数据中的NaN值\n",
    "print(np.isnan(X_val_scaled).sum())\n",
    "# 检查目标数据中的NaN值\n",
    "print(np.isnan(y_val).sum())\n",
    "print(np.isnan(y_pred).sum())"
   ]
  },
  {
   "cell_type": "code",
   "execution_count": 44,
   "id": "8ebff6b5",
   "metadata": {},
   "outputs": [
    {
     "data": {
      "image/png": "[encoded data removed]",
      "text/plain": [
       "<Figure size 864x432 with 1 Axes>"
      ]
     },
     "metadata": {
      "needs_background": "light"
     },
     "output_type": "display_data"
    }
   ],
   "source": [
    "# 可视化结果\n",
    "plt.figure(figsize=(12, 6))\n",
    "plt.plot(y_val, label='Actual')\n",
    "plt.plot(y_pred, label='Predicted')\n",
    "plt.legend()\n",
    "plt.title('Actual vs. Predicted Traffic Flow')\n",
    "plt.xlabel('Time Interval')\n",
    "plt.ylabel('Traffic Flow')\n",
    "plt.show()"
   ]
  },
  {
   "cell_type": "code",
   "execution_count": 26,
   "id": "9be09b2f",
   "metadata": {},
   "outputs": [
    {
     "name": "stdout",
     "output_type": "stream",
     "text": [
      "12012/12012 [==============================] - 51s 4ms/step\n"
     ]
    },
    {
     "data": {
      "image/png": "[encoded data removed]",
      "text/plain": [
       "<Figure size 432x288 with 1 Axes>"
      ]
     },
     "metadata": {
      "needs_background": "light"
     },
     "output_type": "display_data"
    }
   ],
   "source": [
    "import numpy as np\n",
    "import matplotlib.pyplot as plt\n",
    "from statsmodels.graphics.tsaplots import plot_acf\n",
    "\n",
    "# 计算验证集上的残差\n",
    "y_val_pred = model.predict(X_val_scaled)  # 使用模型预测\n",
    "residuals = y_val - y_val_pred.flatten()  # 计算残差\n",
    "\n",
    "\n",
    "# 绘制自相关图\n",
    "plot_acf(residuals, lags=20)  # 设置lags参数来指定自相关图的滞后阶数\n",
    "plt.title('Autocorrelation Plot')\n",
    "plt.xlabel('Lag')\n",
    "plt.ylabel('Autocorrelation Coefficient')\n",
    "plt.show()"
   ]
  },
  {
   "cell_type": "markdown",
   "id": "b3955830",
   "metadata": {},
   "source": [
    "RNN"
   ]
  },
  {
   "cell_type": "code",
   "execution_count": 45,
   "id": "0e57f4e9",
   "metadata": {},
   "outputs": [
    {
     "name": "stdout",
     "output_type": "stream",
     "text": [
      "Epoch 1/10\n",
      "48048/48048 [==============================] - 211s 4ms/step - loss: 42.7983 - val_loss: 31.9587\n",
      "Epoch 2/10\n",
      "48048/48048 [==============================] - 210s 4ms/step - loss: 41.7784 - val_loss: 31.7489\n",
      "Epoch 3/10\n",
      "48048/48048 [==============================] - 218s 5ms/step - loss: 41.5955 - val_loss: 32.0135\n",
      "Epoch 4/10\n",
      "48048/48048 [==============================] - 216s 4ms/step - loss: 41.4891 - val_loss: 31.8005\n",
      "Epoch 5/10\n",
      "48048/48048 [==============================] - 215s 4ms/step - loss: 41.3920 - val_loss: 31.6568\n",
      "Epoch 6/10\n",
      "48048/48048 [==============================] - 210s 4ms/step - loss: 41.3060 - val_loss: 31.6152\n",
      "Epoch 7/10\n",
      "48048/48048 [==============================] - 205s 4ms/step - loss: 41.2274 - val_loss: 31.6770\n",
      "Epoch 8/10\n",
      "48048/48048 [==============================] - 209s 4ms/step - loss: 41.1804 - val_loss: 31.6394\n",
      "Epoch 9/10\n",
      "48048/48048 [==============================] - 205s 4ms/step - loss: 41.1590 - val_loss: 31.5197\n",
      "Epoch 10/10\n",
      "48048/48048 [==============================] - 212s 4ms/step - loss: 41.1299 - val_loss: 31.4426\n",
      "12012/12012 [==============================] - 28s 2ms/step\n"
     ]
    }
   ],
   "source": [
    "# 创建并训练RNN模型\n",
    "rnn_model = Sequential()\n",
    "rnn_model.add(SimpleRNN(50, activation='relu', input_shape=(window_size[1], 1)))\n",
    "rnn_model.add(Dense(1))\n",
    "rnn_model.compile(optimizer='adam', loss='mean_squared_error')\n",
    "\n",
    "rnn_model.fit(X_train_scaled, y_train, epochs=10, batch_size=32, validation_data=(X_val_scaled, y_val))\n",
    "rnn_y_pred = rnn_model.predict(X_val_scaled)"
   ]
  },
  {
   "cell_type": "code",
   "execution_count": 46,
   "id": "4b509247",
   "metadata": {},
   "outputs": [
    {
     "name": "stdout",
     "output_type": "stream",
     "text": [
      "RMSE: 5.5724013064826465\n",
      "MAE: 4.28310814118931\n"
     ]
    }
   ],
   "source": [
    "rnn_rmse = sqrt(mean_squared_error(y_val, rnn_y_pred))\n",
    "rnn_mae = mean_absolute_error(y_val, rnn_y_pred)\n",
    "\n",
    "print(f\"RMSE: {rmse}\")\n",
    "print(f\"MAE: {mae}\")"
   ]
  },
  {
   "cell_type": "code",
   "execution_count": 47,
   "id": "5883b304",
   "metadata": {},
   "outputs": [
    {
     "name": "stdout",
     "output_type": "stream",
     "text": [
      "(R-squared): 0.47534070264831574\n",
      " (Adjusted R-squared): 0.47532022744665614\n"
     ]
    }
   ],
   "source": [
    "r2 = r2_score(y_val, rnn_y_pred)\n",
    "\n",
    "# 计算调整R方\n",
    "n = len(y_val)  # 样本数量\n",
    "p = X_val_scaled.shape[1]  # 自变量数量（特征数量）\n",
    "adjusted_r2 = 1 - (1 - r2) * ((n - 1) / (n - p - 1))\n",
    "\n",
    "print(\"(R-squared):\", r2)\n",
    "print(\" (Adjusted R-squared):\", adjusted_r2)"
   ]
  },
  {
   "cell_type": "code",
   "execution_count": 48,
   "id": "412f83f8",
   "metadata": {},
   "outputs": [
    {
     "data": {
      "image/png": "[encoded data removed]",
      "text/plain": [
       "<Figure size 864x432 with 1 Axes>"
      ]
     },
     "metadata": {
      "needs_background": "light"
     },
     "output_type": "display_data"
    }
   ],
   "source": [
    "# 可视化结果\n",
    "plt.figure(figsize=(12, 6))\n",
    "plt.plot(y_val, label='Actual')\n",
    "plt.plot(rnn_y_pred, label='Predicted')\n",
    "plt.legend()\n",
    "plt.title('Actual vs. Predicted Traffic Flow')\n",
    "plt.xlabel('Time Interval')\n",
    "plt.ylabel('Traffic Flow')\n",
    "plt.show()"
   ]
  },
  {
   "cell_type": "code",
   "execution_count": 49,
   "id": "d0328e6b",
   "metadata": {},
   "outputs": [
    {
     "name": "stdout",
     "output_type": "stream",
     "text": [
      "12012/12012 [==============================] - 31s 3ms/step\n"
     ]
    },
    {
     "data": {
      "image/png": "[encoded data removed]",
      "text/plain": [
       "<Figure size 432x288 with 1 Axes>"
      ]
     },
     "metadata": {
      "needs_background": "light"
     },
     "output_type": "display_data"
    }
   ],
   "source": [
    "# 计算验证集上的残差\n",
    "rnn_y_val_pred = rnn_model.predict(X_val_scaled)  # 使用模型预测\n",
    "residuals = y_val - rnn_y_val_pred.flatten()  # 计算残差\n",
    "\n",
    "\n",
    "# 绘制自相关图\n",
    "plot_acf(residuals, lags=20)  # 设置lags参数来指定自相关图的滞后阶数\n",
    "plt.title('Autocorrelation Plot')\n",
    "plt.xlabel('Lag')\n",
    "plt.ylabel('Autocorrelation Coefficient')\n",
    "plt.show()"
   ]
  },
  {
   "cell_type": "code",
   "execution_count": 10,
   "id": "21193de1",
   "metadata": {},
   "outputs": [
    {
     "name": "stdout",
     "output_type": "stream",
     "text": [
      "预测结果: [13.27349   14.375598  17.151009  ...  5.0915403  6.422582   6.883534 ]\n"
     ]
    },
    {
     "name": "stderr",
     "output_type": "stream",
     "text": [
      "D:\\Python\\Anaconda3\\lib\\site-packages\\IPython\\core\\pylabtools.py:151: UserWarning: Glyph 23454 (\\N{CJK UNIFIED IDEOGRAPH-5B9E}) missing from current font.\n",
      "  fig.canvas.print_figure(bytes_io, **kw)\n",
      "D:\\Python\\Anaconda3\\lib\\site-packages\\IPython\\core\\pylabtools.py:151: UserWarning: Glyph 38469 (\\N{CJK UNIFIED IDEOGRAPH-9645}) missing from current font.\n",
      "  fig.canvas.print_figure(bytes_io, **kw)\n",
      "D:\\Python\\Anaconda3\\lib\\site-packages\\IPython\\core\\pylabtools.py:151: UserWarning: Glyph 20540 (\\N{CJK UNIFIED IDEOGRAPH-503C}) missing from current font.\n",
      "  fig.canvas.print_figure(bytes_io, **kw)\n",
      "D:\\Python\\Anaconda3\\lib\\site-packages\\IPython\\core\\pylabtools.py:151: UserWarning: Glyph 39044 (\\N{CJK UNIFIED IDEOGRAPH-9884}) missing from current font.\n",
      "  fig.canvas.print_figure(bytes_io, **kw)\n",
      "D:\\Python\\Anaconda3\\lib\\site-packages\\IPython\\core\\pylabtools.py:151: UserWarning: Glyph 27979 (\\N{CJK UNIFIED IDEOGRAPH-6D4B}) missing from current font.\n",
      "  fig.canvas.print_figure(bytes_io, **kw)\n",
      "D:\\Python\\Anaconda3\\lib\\site-packages\\IPython\\core\\pylabtools.py:151: UserWarning: Glyph 26102 (\\N{CJK UNIFIED IDEOGRAPH-65F6}) missing from current font.\n",
      "  fig.canvas.print_figure(bytes_io, **kw)\n",
      "D:\\Python\\Anaconda3\\lib\\site-packages\\IPython\\core\\pylabtools.py:151: UserWarning: Glyph 38388 (\\N{CJK UNIFIED IDEOGRAPH-95F4}) missing from current font.\n",
      "  fig.canvas.print_figure(bytes_io, **kw)\n",
      "D:\\Python\\Anaconda3\\lib\\site-packages\\IPython\\core\\pylabtools.py:151: UserWarning: Glyph 36710 (\\N{CJK UNIFIED IDEOGRAPH-8F66}) missing from current font.\n",
      "  fig.canvas.print_figure(bytes_io, **kw)\n",
      "D:\\Python\\Anaconda3\\lib\\site-packages\\IPython\\core\\pylabtools.py:151: UserWarning: Glyph 27969 (\\N{CJK UNIFIED IDEOGRAPH-6D41}) missing from current font.\n",
      "  fig.canvas.print_figure(bytes_io, **kw)\n",
      "D:\\Python\\Anaconda3\\lib\\site-packages\\IPython\\core\\pylabtools.py:151: UserWarning: Glyph 37327 (\\N{CJK UNIFIED IDEOGRAPH-91CF}) missing from current font.\n",
      "  fig.canvas.print_figure(bytes_io, **kw)\n"
     ]
    },
    {
     "data": {
      "image/png": "[encoded data removed]",
      "text/plain": [
       "<Figure size 864x432 with 1 Axes>"
      ]
     },
     "metadata": {
      "needs_background": "light"
     },
     "output_type": "display_data"
    }
   ],
   "source": [
    "from sklearn.model_selection import GridSearchCV\n",
    "param_grid = {\n",
    "    'n_estimators': [100, 200, 300],\n",
    "    'learning_rate': [0.01, 0.1, 0.2],\n",
    "    'max_depth': [3, 4, 5]\n",
    "}\n",
    "\n",
    "xgb_model = xgb.XGBRegressor()\n",
    "# grid_search = GridSearchCV(estimator=xgb_model, param_grid=param_grid, cv=3, scoring='neg_mean_squared_error')\n",
    "# grid_search.fit(X_train_scaled, y_train)\n",
    "\n",
    "# best_params = grid_search.best_params_\n",
    "# print(\"Best super_params:\", best_params)\n",
    "\n",
    "# # 使用最佳超参数创建并训练XGBoost模型\n",
    "# best_xgb_model = xgb.XGBRegressor(**best_params)\n",
    "# best_xgb_model.fit(X_train_scaled, y_train)\n",
    "xgb_model = xgb.XGBRegressor(n_estimators=100, learning_rate=0.1, max_depth=3)\n",
    "xgb_model.fit(X_train_scaled, y_train)\n",
    "# 预测\n",
    "xgb_y_pred = xgb_model.predict(X_val_scaled)\n",
    "\n",
    "# 输出预测结果\n",
    "print(\"pred_result:\", xgb_y_pred)\n",
    "\n",
    "# 可视化预测结果\n",
    "plt.figure(figsize=(12, 6))\n",
    "plt.plot(y_val, label='Actual', color='blue')\n",
    "plt.plot(xgb_y_pred, label='Predict', color='red')\n",
    "plt.title('Actual vs.Predict')\n",
    "plt.xlabel('Time interval')\n",
    "plt.ylabel('Flow')\n",
    "plt.legend()\n",
    "plt.show()"
   ]
  },
  {
   "cell_type": "code",
   "execution_count": 11,
   "id": "6077ae5e",
   "metadata": {},
   "outputs": [
    {
     "name": "stdout",
     "output_type": "stream",
     "text": [
      "pred_result: [13.27349   14.375598  17.151009  ...  5.0915403  6.422582   6.883534 ]\n"
     ]
    },
    {
     "data": {
      "image/png": "[encoded data removed]",
      "text/plain": [
       "<Figure size 864x432 with 1 Axes>"
      ]
     },
     "metadata": {
      "needs_background": "light"
     },
     "output_type": "display_data"
    }
   ],
   "source": [
    "print(\"pred_result:\", xgb_y_pred)\n",
    "\n",
    "# 可视化预测结果\n",
    "plt.figure(figsize=(12, 6))\n",
    "plt.plot(y_val, label='Actual', color='blue')\n",
    "plt.plot(xgb_y_pred, label='Predict', color='red')\n",
    "plt.title('Actual vs.Predict')\n",
    "plt.xlabel('Time interval')\n",
    "plt.ylabel('Flow')\n",
    "plt.legend()\n",
    "plt.show()"
   ]
  },
  {
   "cell_type": "code",
   "execution_count": 12,
   "id": "d1c70a62",
   "metadata": {},
   "outputs": [
    {
     "name": "stdout",
     "output_type": "stream",
     "text": [
      "(R-squared): 0.46863043276138616\n",
      " (Adjusted R-squared): 0.468609695686679\n"
     ]
    }
   ],
   "source": [
    "r2 = r2_score(y_val, xgb_y_pred)\n",
    "\n",
    "# 计算调整R方\n",
    "n = len(y_val)  # 样本数量\n",
    "p = X_val_scaled.shape[1]  # 自变量数量（特征数量）\n",
    "adjusted_r2 = 1 - (1 - r2) * ((n - 1) / (n - p - 1))\n",
    "\n",
    "print(\"(R-squared):\", r2)\n",
    "print(\" (Adjusted R-squared):\", adjusted_r2)"
   ]
  },
  {
   "cell_type": "code",
   "execution_count": 15,
   "id": "9abec203",
   "metadata": {},
   "outputs": [
    {
     "name": "stderr",
     "output_type": "stream",
     "text": [
      "C:\\Users\\stein\\AppData\\Local\\Temp\\ipykernel_11916\\1230274383.py:4: SettingWithCopyWarning: \n",
      "A value is trying to be set on a copy of a slice from a DataFrame.\n",
      "Try using .loc[row_indexer,col_indexer] = value instead\n",
      "\n",
      "See the caveats in the documentation: https://pandas.pydata.org/pandas-docs/stable/user_guide/indexing.html#returning-a-view-versus-a-copy\n",
      "  new_data['Date'] = pd.to_datetime(new_data['Date'], format='%Y%m%d')\n",
      "C:\\Users\\stein\\AppData\\Local\\Temp\\ipykernel_11916\\1230274383.py:5: SettingWithCopyWarning: \n",
      "A value is trying to be set on a copy of a slice from a DataFrame.\n",
      "Try using .loc[row_indexer,col_indexer] = value instead\n",
      "\n",
      "See the caveats in the documentation: https://pandas.pydata.org/pandas-docs/stable/user_guide/indexing.html#returning-a-view-versus-a-copy\n",
      "  new_data['Month'] = new_data['Date'].dt.month\n",
      "C:\\Users\\stein\\AppData\\Local\\Temp\\ipykernel_11916\\1230274383.py:8: FutureWarning: Series.dt.weekofyear and Series.dt.week have been deprecated. Please use Series.dt.isocalendar().week instead.\n",
      "  new_data['Week_num'] = new_data['Date'].dt.week\n",
      "C:\\Users\\stein\\AppData\\Local\\Temp\\ipykernel_11916\\1230274383.py:8: SettingWithCopyWarning: \n",
      "A value is trying to be set on a copy of a slice from a DataFrame.\n",
      "Try using .loc[row_indexer,col_indexer] = value instead\n",
      "\n",
      "See the caveats in the documentation: https://pandas.pydata.org/pandas-docs/stable/user_guide/indexing.html#returning-a-view-versus-a-copy\n",
      "  new_data['Week_num'] = new_data['Date'].dt.week\n",
      "C:\\Users\\stein\\AppData\\Local\\Temp\\ipykernel_11916\\1230274383.py:11: SettingWithCopyWarning: \n",
      "A value is trying to be set on a copy of a slice from a DataFrame.\n",
      "Try using .loc[row_indexer,col_indexer] = value instead\n",
      "\n",
      "See the caveats in the documentation: https://pandas.pydata.org/pandas-docs/stable/user_guide/indexing.html#returning-a-view-versus-a-copy\n",
      "  new_data['past_5mins_avg'] = new_data['FLOW'].rolling(window=5).mean()\n"
     ]
    },
    {
     "name": "stdout",
     "output_type": "stream",
     "text": [
      "         DP_ID       Date      Time  FLOW  Month  Week_num  past_5mins_avg  \\\n",
      "0          543 2021-06-01  04:00:00  10.0      6        22             NaN   \n",
      "23        1079 2021-06-01  04:00:00  11.0      6        22             NaN   \n",
      "22        1076 2021-06-01  04:00:00   6.0      6        22             NaN   \n",
      "21        1254 2021-06-01  04:00:00   4.0      6        22             NaN   \n",
      "20         902 2021-06-01  04:00:00  15.0      6        22             9.2   \n",
      "...        ...        ...       ...   ...    ...       ...             ...   \n",
      "1921941   4873 2021-12-31  10:00:00   4.0     12        52             3.6   \n",
      "1921940   1443 2021-12-31  10:00:00   6.0     12        52             2.6   \n",
      "1921965    351 2021-12-31  10:00:00   9.0     12        52             4.2   \n",
      "1921952   4473 2021-12-31  10:00:00   7.0     12        52             5.4   \n",
      "1921966    534 2021-12-31  10:00:00   6.0     12        52             6.4   \n",
      "\n",
      "         past_1week_sameday&time  \n",
      "0                           10.0  \n",
      "23                          11.0  \n",
      "22                           6.0  \n",
      "21                           4.0  \n",
      "20                          15.0  \n",
      "...                          ...  \n",
      "1921941                      4.0  \n",
      "1921940                      6.0  \n",
      "1921965                      9.0  \n",
      "1921952                      7.0  \n",
      "1921966                      6.0  \n",
      "\n",
      "[1921905 rows x 8 columns]\n"
     ]
    },
    {
     "name": "stderr",
     "output_type": "stream",
     "text": [
      "C:\\Users\\stein\\AppData\\Local\\Temp\\ipykernel_11916\\1230274383.py:14: SettingWithCopyWarning: \n",
      "A value is trying to be set on a copy of a slice from a DataFrame.\n",
      "Try using .loc[row_indexer,col_indexer] = value instead\n",
      "\n",
      "See the caveats in the documentation: https://pandas.pydata.org/pandas-docs/stable/user_guide/indexing.html#returning-a-view-versus-a-copy\n",
      "  new_data['past_1week_sameday&time'] = new_data.groupby(['DP_ID', 'Date', 'Time'])['FLOW'].transform('mean')\n"
     ]
    }
   ],
   "source": [
    "new_data = clean_data[['DP_ID', 'Date','Time', 'FLOW']]\n",
    "\n",
    "# 添加Month列，提取日期中的月份信息\n",
    "new_data['Date'] = pd.to_datetime(new_data['Date'], format='%Y%m%d')\n",
    "new_data['Month'] = new_data['Date'].dt.month\n",
    "\n",
    "# 添加Week_num列，提取日期中的周数信息\n",
    "new_data['Week_num'] = new_data['Date'].dt.week\n",
    "\n",
    "# 添加past_5mins_avg列，计算过去五分钟的流量平均值\n",
    "new_data['past_5mins_avg'] = new_data['FLOW'].rolling(window=5).mean()\n",
    "\n",
    "# 添加past_1week_sameday&time列，计算过去一周相同日期和时间的流量平均值\n",
    "new_data['past_1week_sameday&time'] = new_data.groupby(['DP_ID', 'Date', 'Time'])['FLOW'].transform('mean')\n",
    "\n",
    "# 打印新的DataFrame\n",
    "print(new_data)\n"
   ]
  },
  {
   "cell_type": "code",
   "execution_count": null,
   "id": "bdc2954a",
   "metadata": {},
   "outputs": [],
   "source": []
  }
 ],
 "metadata": {
  "kernelspec": {
   "display_name": "Python 3 (ipykernel)",
   "language": "python",
   "name": "python3"
  },
  "language_info": {
   "codemirror_mode": {
    "name": "ipython",
    "version": 3
   },
   "file_extension": ".py",
   "mimetype": "text/x-python",
   "name": "python",
   "nbconvert_exporter": "python",
   "pygments_lexer": "ipython3",
   "version": "3.9.12"
  }
 },
 "nbformat": 4,
 "nbformat_minor": 5
}
